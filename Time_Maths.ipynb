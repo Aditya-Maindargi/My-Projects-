{
  "nbformat": 4,
  "nbformat_minor": 0,
  "metadata": {
    "colab": {
      "provenance": [],
      "authorship_tag": "ABX9TyNvT6JX7n+Q+9lJpGEFOP91",
      "include_colab_link": true
    },
    "kernelspec": {
      "name": "python3",
      "display_name": "Python 3"
    },
    "language_info": {
      "name": "python"
    }
  },
  "cells": [
    {
      "cell_type": "markdown",
      "metadata": {
        "id": "view-in-github",
        "colab_type": "text"
      },
      "source": [
        "<a href=\"https://colab.research.google.com/github/Aditya-Maindargi/My-Projects-/blob/main/Time_Maths.ipynb\" target=\"_parent\"><img src=\"https://colab.research.google.com/assets/colab-badge.svg\" alt=\"Open In Colab\"/></a>"
      ]
    },
    {
      "cell_type": "code",
      "source": [
        "from numpy import random\n",
        "import time  # this library is used to keep watch on time"
      ],
      "metadata": {
        "id": "Gicj6wjaIeKm"
      },
      "execution_count": 16,
      "outputs": []
    },
    {
      "cell_type": "code",
      "source": [
        "# makeing the range and number of operation which we can use to make random maths problems\n",
        "\n",
        "max_number = 15 # keeping the limit small so it wont make problems much harder\n",
        "min_number = 1\n",
        "\n",
        "operators = ['+' , '-' , '*' , '%'  ]\n",
        "\n",
        "\n"
      ],
      "metadata": {
        "id": "SldP9B-pUEHx"
      },
      "execution_count": 17,
      "outputs": []
    },
    {
      "cell_type": "code",
      "source": [
        "# Making problem generator\n",
        "\n",
        "def problem_generator(tot):  # making a local scope so i can call this function anywhere in code\n",
        "  No1 = random.randint(min_number , max_number)\n",
        "  No2 = random.randint(min_number , max_number)\n",
        "  operator = random.choice(operators)\n",
        "\n",
        "\n",
        "  while True :\n",
        "\n",
        "\n",
        "\n",
        "    if tot < 0:\n",
        "      continue\n",
        "    elif tot > 20:\n",
        "      print(\"Please enter a number less that 20 \")\n",
        "      continue\n",
        "    else:\n",
        "\n",
        "        operation = str(No1) + operator + str(No2)\n",
        "\n",
        "        # print(operation)\n",
        "        answer = eval(operation)\n",
        "        return answer ,  operation\n",
        "        # print(answer)\n",
        "\n",
        "\n",
        "\n",
        "total_problem = int(input(\"Enter the number between 1 to 20 :\"))\n",
        "problem_generator(total_problem)\n",
        "input(\"The game starts not\")\n",
        "wrong = 0\n",
        "total_attempts = 0\n",
        "start_time = time.time()\n",
        "\n",
        "\n",
        "\n",
        "\n",
        "for i in range(1,total_problem+1):\n",
        "  answer , operation = problem_generator(total_problem)\n",
        "\n",
        "\n",
        "  guess = input(f\"problem no. {i} : {operation} = \")\n",
        "\n",
        "  if guess == str(answer):\n",
        "    print(\"The answer is correct \")\n",
        "    total_attempts += 1\n",
        "  else :\n",
        "    print('Pls redo the quetion ')\n",
        "    wrong += 1\n",
        "    total_attempts += 1\n",
        "\n",
        "end_time = time.time()\n",
        "\n",
        "\n",
        "\n",
        "total_time = round(end_time - start_time , 5)\n",
        "print(\"The game stops \")\n",
        "\n",
        "print(f\"Total attempts taken are {total_attempts}\")\n",
        "accuracy = ((total_problem-wrong)/total_problem)*100\n",
        "print(f\"The accuracy of the game is {accuracy} %\")\n",
        "\n",
        "\n",
        "\n",
        "\n",
        "\n",
        "\n",
        "\n"
      ],
      "metadata": {
        "colab": {
          "base_uri": "https://localhost:8080/"
        },
        "id": "mvMcUEJZYOWe",
        "outputId": "bf40dd38-769a-416d-8728-66f82234fccf"
      },
      "execution_count": 19,
      "outputs": [
        {
          "output_type": "stream",
          "name": "stdout",
          "text": [
            "Enter the number between 1 to 20 :10\n",
            "The game starts notnow\n",
            "problem no. 1 : 12%14 = 0\n",
            "Pls redo the quetion \n",
            "problem no. 2 : 11-2 = 9\n",
            "The answer is correct \n",
            "problem no. 3 : 7%11 = 1\n",
            "Pls redo the quetion \n",
            "problem no. 4 : 10+13 = 23\n",
            "The answer is correct \n",
            "problem no. 5 : 6*13 = 105\n",
            "Pls redo the quetion \n",
            "problem no. 6 : 1-5 = -4\n",
            "The answer is correct \n",
            "problem no. 7 : 7-1 = 6\n",
            "The answer is correct \n",
            "problem no. 8 : 7%2 = 1\n",
            "The answer is correct \n",
            "problem no. 9 : 12*4 = 48\n",
            "The answer is correct \n",
            "problem no. 10 : 4+2 = 6\n",
            "The answer is correct \n",
            "The game stops \n",
            "Total attempts taken are 10\n",
            "The accuracy of the game is 70.0 %\n"
          ]
        }
      ]
    }
  ]
}