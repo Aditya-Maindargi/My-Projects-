{
  "nbformat": 4,
  "nbformat_minor": 0,
  "metadata": {
    "colab": {
      "provenance": [],
      "authorship_tag": "ABX9TyPsMbO2maiJ7jubmbY50XZt",
      "include_colab_link": true
    },
    "kernelspec": {
      "name": "python3",
      "display_name": "Python 3"
    },
    "language_info": {
      "name": "python"
    }
  },
  "cells": [
    {
      "cell_type": "markdown",
      "metadata": {
        "id": "view-in-github",
        "colab_type": "text"
      },
      "source": [
        "<a href=\"https://colab.research.google.com/github/Aditya-Maindargi/My-Projects-/blob/main/Password_Maganger.ipynb\" target=\"_parent\"><img src=\"https://colab.research.google.com/assets/colab-badge.svg\" alt=\"Open In Colab\"/></a>"
      ]
    },
    {
      "cell_type": "code",
      "execution_count": null,
      "metadata": {
        "id": "DEBHyNItiJvu"
      },
      "outputs": [],
      "source": [
        "from cryptography.fernet import Fernet\n",
        "import base64\n",
        "import hashlib\n",
        "\n",
        "# --- KEY HANDLING (derive from master password) ---\n",
        "def generate_key(master_password):\n",
        "    # Derive a Fernet key from master password using SHA256 + base64\n",
        "    return base64.urlsafe_b64encode(hashlib.sha256(master_password.encode()).digest())\n",
        "\n",
        "# --- MASTER PASSWORD ---\n",
        "master_password = input(\"Enter your master password: \").strip()\n",
        "key = generate_key(master_password)\n",
        "fer = Fernet(key)\n",
        "\n",
        "# --- FUNCTIONS ---\n",
        "def view():\n",
        "    try:\n",
        "        with open('password.txt', 'r') as f:\n",
        "            for line in f.readlines():\n",
        "                user, encrypted_pass = line.strip().split(\" _|_ \")\n",
        "                try:\n",
        "                    decrypted_pass = fer.decrypt(encrypted_pass.encode()).decode()\n",
        "                    print(\"User:\", user, \"| Password:\", decrypted_pass)\n",
        "                except:\n",
        "                    print(\"User:\", user, \"| Password: [INVALID MASTER PASSWORD!]\")\n",
        "    except FileNotFoundError:\n",
        "        print(\"No saved passwords yet.\")\n",
        "\n",
        "def add():\n",
        "    name = input(\"Account name: \")\n",
        "    password = input(\"Password: \")\n",
        "    encrypted_pass = fer.encrypt(password.encode()).decode()\n",
        "    with open('password.txt', 'a') as f:\n",
        "        f.write(name + \" _|_ \" + encrypted_pass + \"\\n\")\n",
        "    print(\"Password saved successfully!\")\n",
        "\n",
        "# --- MAIN LOOP ---\n",
        "while True:\n",
        "    mode = input(\"Choose: add / view / quit (a/v/q): \").strip().lower()\n",
        "    if mode in [\"q\", \"quit\"]:\n",
        "        print(\"Exiting password manager. Bye!\")\n",
        "        break\n",
        "    elif mode in [\"v\", \"view\"]:\n",
        "        view()\n",
        "    elif mode in [\"a\", \"add\"]:\n",
        "        add()\n",
        "    else:\n",
        "        print(\"Invalid option. Try again.\")\n"
      ]
    },
    {
      "cell_type": "code",
      "source": [],
      "metadata": {
        "id": "I6kHDWV9tk8r"
      },
      "execution_count": null,
      "outputs": []
    }
  ]
}